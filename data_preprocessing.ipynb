{
  "nbformat": 4,
  "nbformat_minor": 0,
  "metadata": {
    "colab": {
      "name": "data preprocessing.ipynb",
      "provenance": [],
      "collapsed_sections": [],
      "authorship_tag": "ABX9TyPxr9UhBQ4Kz4da3E9oOlvb",
      "include_colab_link": true
    },
    "kernelspec": {
      "name": "python3",
      "display_name": "Python 3"
    }
  },
  "cells": [
    {
      "cell_type": "markdown",
      "metadata": {
        "id": "view-in-github",
        "colab_type": "text"
      },
      "source": [
        "<a href=\"https://colab.research.google.com/github/ROHINI-H/websites/blob/master/data_preprocessing.ipynb\" target=\"_parent\"><img src=\"https://colab.research.google.com/assets/colab-badge.svg\" alt=\"Open In Colab\"/></a>"
      ]
    },
    {
      "cell_type": "markdown",
      "metadata": {
        "id": "pXjmUrMc2H7G",
        "colab_type": "text"
      },
      "source": [
        "data preprocessing"
      ]
    },
    {
      "cell_type": "markdown",
      "metadata": {
        "id": "0IFRRKXr2Two",
        "colab_type": "text"
      },
      "source": [
        "Importing the libraries"
      ]
    },
    {
      "cell_type": "code",
      "metadata": {
        "id": "5JtLXjyn2Z_q",
        "colab_type": "code",
        "colab": {}
      },
      "source": [
        "import numpy as np\n",
        "import pandas as pd\n",
        "import matplotlib.pyplot as plt\n"
      ],
      "execution_count": 7,
      "outputs": []
    },
    {
      "cell_type": "markdown",
      "metadata": {
        "id": "9BUSz6u_22PQ",
        "colab_type": "text"
      },
      "source": [
        "importing the dataset"
      ]
    },
    {
      "cell_type": "code",
      "metadata": {
        "id": "chEGsnjD27jH",
        "colab_type": "code",
        "colab": {}
      },
      "source": [
        "data=pd.read_csv(\"Data preprocessing.csv\")\n",
        "X=data.iloc[:,1:4].values\n",
        "y=data.iloc[:,-1].values"
      ],
      "execution_count": 13,
      "outputs": []
    },
    {
      "cell_type": "code",
      "metadata": {
        "id": "GEvXHmkf4b_A",
        "colab_type": "code",
        "colab": {
          "base_uri": "https://localhost:8080/",
          "height": 50
        },
        "outputId": "e85ff375-462a-420a-9c0e-72efc94ffc8a"
      },
      "source": [
        "print(y)"
      ],
      "execution_count": 14,
      "outputs": [
        {
          "output_type": "stream",
          "text": [
            "['yes' 'no' 'no' 'no' 'yes' 'no' 'yes' 'yes' 'yes' 'no' 'yes' 'no' 'no'\n",
            " 'yes' 'yes' 'no' 'yes']\n"
          ],
          "name": "stdout"
        }
      ]
    },
    {
      "cell_type": "markdown",
      "metadata": {
        "id": "jXkWl56Y4aEK",
        "colab_type": "text"
      },
      "source": [
        "finding the missing data"
      ]
    },
    {
      "cell_type": "code",
      "metadata": {
        "id": "7OKcJSxD5KRX",
        "colab_type": "code",
        "colab": {}
      },
      "source": [
        "from sklearn.impute import SimpleImputer\n",
        "imputer=SimpleImputer(missing_values=np.nan, strategy='mean')\n",
        "imputer.fit(X[:,1:3])\n",
        "X[:,1:3]=imputer.transform(X[:,1:3])\n"
      ],
      "execution_count": 15,
      "outputs": []
    },
    {
      "cell_type": "code",
      "metadata": {
        "id": "abEM2qOQ6-nX",
        "colab_type": "code",
        "colab": {
          "base_uri": "https://localhost:8080/",
          "height": 302
        },
        "outputId": "f861e81f-c38e-48b2-cd4c-b15e1ad3f173"
      },
      "source": [
        "print(X)"
      ],
      "execution_count": 16,
      "outputs": [
        {
          "output_type": "stream",
          "text": [
            "[['India' 26.0 65000.0]\n",
            " ['USA' 32.0 70000.0]\n",
            " ['China' 56.0 62000.0]\n",
            " ['USA' 48.0 72000.0]\n",
            " ['Australia' 33.0 50000.0]\n",
            " ['Australia' 59.0 56000.0]\n",
            " ['India' 18.0 68000.0]\n",
            " ['USA' 29.0 73000.0]\n",
            " ['India' 37.46666666666667 68000.0]\n",
            " ['Australia' 36.0 52000.0]\n",
            " ['India' 29.0 64000.0]\n",
            " ['France' 42.0 30000.0]\n",
            " ['USA' 28.0 76000.0]\n",
            " ['USA' 37.46666666666667 74000.0]\n",
            " ['China' 33.0 60000.0]\n",
            " ['China' 35.0 61000.0]\n",
            " ['Australia' 58.0 55000.0]]\n"
          ],
          "name": "stdout"
        }
      ]
    },
    {
      "cell_type": "markdown",
      "metadata": {
        "id": "TBhAvYv35oV4",
        "colab_type": "text"
      },
      "source": [
        "encoding the categorical data"
      ]
    },
    {
      "cell_type": "code",
      "metadata": {
        "id": "hwlJ53rj6opS",
        "colab_type": "code",
        "colab": {}
      },
      "source": [
        "from sklearn.preprocessing import LabelEncoder\n",
        "i=LabelEncoder()\n",
        "X[:,0]=i.fit_transform(X[:,0])"
      ],
      "execution_count": 17,
      "outputs": []
    },
    {
      "cell_type": "code",
      "metadata": {
        "id": "hdCWjIwO7SxK",
        "colab_type": "code",
        "colab": {
          "base_uri": "https://localhost:8080/",
          "height": 302
        },
        "outputId": "ac484b03-0912-4d23-c3da-ad6cf4e6dc50"
      },
      "source": [
        "print(X)"
      ],
      "execution_count": 18,
      "outputs": [
        {
          "output_type": "stream",
          "text": [
            "[[3 26.0 65000.0]\n",
            " [4 32.0 70000.0]\n",
            " [1 56.0 62000.0]\n",
            " [4 48.0 72000.0]\n",
            " [0 33.0 50000.0]\n",
            " [0 59.0 56000.0]\n",
            " [3 18.0 68000.0]\n",
            " [4 29.0 73000.0]\n",
            " [3 37.46666666666667 68000.0]\n",
            " [0 36.0 52000.0]\n",
            " [3 29.0 64000.0]\n",
            " [2 42.0 30000.0]\n",
            " [4 28.0 76000.0]\n",
            " [4 37.46666666666667 74000.0]\n",
            " [1 33.0 60000.0]\n",
            " [1 35.0 61000.0]\n",
            " [0 58.0 55000.0]]\n"
          ],
          "name": "stdout"
        }
      ]
    },
    {
      "cell_type": "markdown",
      "metadata": {
        "id": "oinfQRtO6MH8",
        "colab_type": "text"
      },
      "source": [
        "splitting data into train/test set"
      ]
    },
    {
      "cell_type": "code",
      "metadata": {
        "id": "uGXNU-ir7Zwy",
        "colab_type": "code",
        "colab": {}
      },
      "source": [
        "from sklearn.model_selection import train_test_split\n",
        "X_train,X_test,y_train,y_test=train_test_split(X,y,test_size=0.2,random_state=0)"
      ],
      "execution_count": 19,
      "outputs": []
    },
    {
      "cell_type": "code",
      "metadata": {
        "id": "9TThzgHH8UyR",
        "colab_type": "code",
        "colab": {
          "base_uri": "https://localhost:8080/",
          "height": 235
        },
        "outputId": "214409c6-0084-452f-96d7-d12996fc6f7f"
      },
      "source": [
        "print(X_train)"
      ],
      "execution_count": 20,
      "outputs": [
        {
          "output_type": "stream",
          "text": [
            "[[4 37.46666666666667 74000.0]\n",
            " [0 33.0 50000.0]\n",
            " [1 56.0 62000.0]\n",
            " [1 33.0 60000.0]\n",
            " [3 29.0 64000.0]\n",
            " [4 29.0 73000.0]\n",
            " [0 58.0 55000.0]\n",
            " [2 42.0 30000.0]\n",
            " [4 48.0 72000.0]\n",
            " [3 26.0 65000.0]\n",
            " [0 59.0 56000.0]\n",
            " [1 35.0 61000.0]\n",
            " [4 28.0 76000.0]]\n"
          ],
          "name": "stdout"
        }
      ]
    },
    {
      "cell_type": "code",
      "metadata": {
        "id": "cpaaxP3o8Xg-",
        "colab_type": "code",
        "colab": {
          "base_uri": "https://localhost:8080/",
          "height": 84
        },
        "outputId": "d54e07a1-0aae-4a8c-e0bc-f65d78855898"
      },
      "source": [
        "print(X_test)"
      ],
      "execution_count": 21,
      "outputs": [
        {
          "output_type": "stream",
          "text": [
            "[[4 32.0 70000.0]\n",
            " [3 18.0 68000.0]\n",
            " [3 37.46666666666667 68000.0]\n",
            " [0 36.0 52000.0]]\n"
          ],
          "name": "stdout"
        }
      ]
    },
    {
      "cell_type": "code",
      "metadata": {
        "id": "tkAO3-bc8aSY",
        "colab_type": "code",
        "colab": {
          "base_uri": "https://localhost:8080/",
          "height": 34
        },
        "outputId": "01152935-64cb-4e1a-8ddc-fc375dcc7905"
      },
      "source": [
        "print(y_train)"
      ],
      "execution_count": 22,
      "outputs": [
        {
          "output_type": "stream",
          "text": [
            "['yes' 'yes' 'no' 'yes' 'yes' 'yes' 'yes' 'no' 'no' 'yes' 'no' 'no' 'no']\n"
          ],
          "name": "stdout"
        }
      ]
    },
    {
      "cell_type": "code",
      "metadata": {
        "id": "VIkMVzxX8dFA",
        "colab_type": "code",
        "colab": {
          "base_uri": "https://localhost:8080/",
          "height": 34
        },
        "outputId": "af7d9205-bf8b-428e-b421-9f03bbcd7a2a"
      },
      "source": [
        "print(y_test)"
      ],
      "execution_count": 23,
      "outputs": [
        {
          "output_type": "stream",
          "text": [
            "['no' 'yes' 'yes' 'no']\n"
          ],
          "name": "stdout"
        }
      ]
    },
    {
      "cell_type": "markdown",
      "metadata": {
        "id": "lKobk8Q-7aHO",
        "colab_type": "text"
      },
      "source": [
        "feature scaling"
      ]
    },
    {
      "cell_type": "code",
      "metadata": {
        "id": "8FJLu-RC8hrZ",
        "colab_type": "code",
        "colab": {}
      },
      "source": [
        "from sklearn.preprocessing import StandardScaler\n",
        "ss=StandardScaler()\n",
        "X_train=ss.fit_transform(X_train)\n",
        "X_test=ss.fit_transform(X_test)"
      ],
      "execution_count": 24,
      "outputs": []
    },
    {
      "cell_type": "code",
      "metadata": {
        "id": "FOGikuAe9M5b",
        "colab_type": "code",
        "colab": {
          "base_uri": "https://localhost:8080/",
          "height": 235
        },
        "outputId": "8512332c-c8e6-4347-96cb-0c8be336e8b9"
      },
      "source": [
        "print(X_train)"
      ],
      "execution_count": 25,
      "outputs": [
        {
          "output_type": "stream",
          "text": [
            "[[ 1.20842061 -0.17669738  1.06412772]\n",
            " [-1.30509426 -0.56534238 -0.96031038]\n",
            " [-0.67671554  1.43588932  0.05190867]\n",
            " [-0.67671554 -0.56534238 -0.11679451]\n",
            " [ 0.58004189 -0.91338267  0.22061184]\n",
            " [ 1.20842061 -0.91338267  0.97977613]\n",
            " [-1.30509426  1.60990947 -0.53855244]\n",
            " [-0.04833682  0.21774829 -2.64734213]\n",
            " [ 1.20842061  0.73980873  0.89542454]\n",
            " [ 0.58004189 -1.17441289  0.30496343]\n",
            " [-1.30509426  1.69691954 -0.45420086]\n",
            " [-0.67671554 -0.39132223 -0.03244292]\n",
            " [ 1.20842061 -1.00039275  1.23283089]]\n"
          ],
          "name": "stdout"
        }
      ]
    },
    {
      "cell_type": "code",
      "metadata": {
        "id": "1N5FlyAk9PMD",
        "colab_type": "code",
        "colab": {
          "base_uri": "https://localhost:8080/",
          "height": 84
        },
        "outputId": "3a5d6685-c518-4c15-e930-05b7b033fe7a"
      },
      "source": [
        "print(X_test)"
      ],
      "execution_count": 26,
      "outputs": [
        {
          "output_type": "stream",
          "text": [
            "[[ 1.          0.14731458  0.75727123]\n",
            " [ 0.33333333 -1.67245372  0.48189987]\n",
            " [ 0.33333333  0.85789077  0.48189987]\n",
            " [-1.66666667  0.66724838 -1.72107098]]\n"
          ],
          "name": "stdout"
        }
      ]
    }
  ]
}